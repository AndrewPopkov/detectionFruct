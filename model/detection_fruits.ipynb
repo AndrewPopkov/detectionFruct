{
  "nbformat": 4,
  "nbformat_minor": 0,
  "metadata": {
    "colab": {
      "name": "detection_fruits.ipynb",
      "provenance": [],
      "collapsed_sections": []
    },
    "kernelspec": {
      "name": "python3",
      "display_name": "Python 3"
    },
    "accelerator": "GPU"
  },
  "cells": [
    {
      "cell_type": "code",
      "metadata": {
        "id": "1ssWCUZkRrg1",
        "colab_type": "code",
        "colab": {}
      },
      "source": [
        "import cv2\n",
        "import torch\n",
        "import numpy as np\n",
        "import matplotlib.pyplot as plt\n",
        "%matplotlib inline\n",
        "import torchvision\n",
        "from torchvision.models.detection.faster_rcnn import FastRCNNPredictor\n",
        "import xml.etree.ElementTree as ET\n",
        "from torch.utils.data import Dataset, DataLoader\n",
        "import torch.nn as nn\n",
        "from pathlib import Path\n",
        "from tqdm import tqdm, tqdm_notebook\n",
        "from torchvision import transforms\n"
      ],
      "execution_count": 1,
      "outputs": []
    },
    {
      "cell_type": "code",
      "metadata": {
        "id": "UqvTAxZszzo2",
        "colab_type": "code",
        "colab": {}
      },
      "source": [
        ""
      ],
      "execution_count": null,
      "outputs": []
    },
    {
      "cell_type": "code",
      "metadata": {
        "id": "FRG39OhK5Qto",
        "colab_type": "code",
        "colab": {}
      },
      "source": [
        "import xml.etree.ElementTree as ET\n",
        "\n",
        "\n",
        "# разные режимы датасета\n",
        "DATA_MODES = ['train', 'val', 'test']\n",
        "\n",
        "# работаем на видеокарте\n",
        "DEVICE = torch.device(\"cuda\")\n",
        "# DEVICE = torch.device(\"cpu\")\n",
        "\n",
        "\n",
        "torch.cuda.is_available()\n",
        "# 55 orange\n",
        "# 53 apple\n",
        "# 52 banana\n",
        "Labels = {\n",
        "    'orange': 1,\n",
        "    'banana': 2,\n",
        "    'apple': 3,\n",
        "\n",
        "}\n",
        "\n",
        "widthR, heightR =(600, 400)\n",
        "\n",
        "class CustomDataset(Dataset):\n",
        "    \"\"\"\n",
        "    Датасет с картинками, который паралельно подгружает их из папок\n",
        "    производит скалирование и превращение в торчевые тензоры\n",
        "    \"\"\"\n",
        "\n",
        "    def __init__(self, files, mode):\n",
        "        super().__init__()\n",
        "        # список файлов для загрузки\n",
        "        self.files = sorted(files)\n",
        "        # режим работы\n",
        "        self.mode = mode\n",
        "\n",
        "        if self.mode not in DATA_MODES:\n",
        "            print(f\"{self.mode} is not correct; correct modes: {DATA_MODES}\")\n",
        "            raise NameError\n",
        "\n",
        "        self.len_ = len(self.files)\n",
        "\n",
        "    def __len__(self):\n",
        "        return self.len_\n",
        "\n",
        "    def load_sample(self, file):\n",
        "        img_numpy = cv2.imread(str(file))[:, :, ::-1]\n",
        "        height, width = img_numpy.shape[:2]\n",
        "        k1=width/widthR \n",
        "        k2=height/heightR\n",
        "        \n",
        "        img = cv2.resize(img_numpy, (widthR, heightR))\n",
        "        img = torch.from_numpy(img.astype('float32')).permute(2, 0, 1)\n",
        "        img = img / 255.\n",
        "        # print(img[None, ...].shape)\n",
        "        return img, (k1,k2)\n",
        "\n",
        "    # def getTargetandLabelTensor(self, target):\n",
        "    #     npTarget = np.empty(0)\n",
        "    #     npLabels = np.empty(0)\n",
        "    #     for t in target:\n",
        "    #         npLabels = np.append(npLabels, Labels[t['name']])\n",
        "    #         npTarget = np.append(npTarget, np.array([t['xmin'], t['ymin'], t['xmax'], t['ymax']]))\n",
        "    #     return torch.from_numpy(npTarget.astype('float32'))[None, ...], torch.from_numpy(npLabels.astype('int64'))[\n",
        "    #         None, ...]\n",
        "\n",
        "    def getTarget(self, xml, kt):\n",
        "        tree = ET.parse(xml)\n",
        "        tree.findall('object')\n",
        "        boxes = []\n",
        "        labels = []\n",
        "        for obj in tree.findall('object'):\n",
        "            name = obj.find('name').text\n",
        "            box = obj.find('bndbox')\n",
        "            xmin = np.float(box.find('xmin').text)/kt[0]\n",
        "            ymin = np.float(box.find('ymin').text)/kt[1]\n",
        "            xmax = np.float(box.find('xmax').text)/kt[0]\n",
        "            ymax = np.float(box.find('ymax').text)/kt[1]\n",
        "            boxes.append([xmin,ymin,xmax,ymax])\n",
        "            labels.append(Labels[name])\n",
        "        d = {}\n",
        "        d [\"boxes\"] = torch.as_tensor(boxes, dtype=torch.float32)\n",
        "        d [\"labels\"] = torch.as_tensor(labels, dtype=torch.int64) \n",
        "        return d\n",
        "\n",
        "    def __getitem__(self, index):\n",
        "        # print(self.files[index])\n",
        "        img,kt = self.load_sample(self.files[index])\n",
        "        targets = self.getTarget(str(self.files[index]).replace('jpg', 'xml'), kt) \n",
        "        # print(targets[\"boxes\"])       \n",
        "        if self.mode == 'train':\n",
        "            return img, targets\n",
        "        elif self.mode == 'val':\n",
        "\n",
        "            return img, targets\n",
        "        else:\n",
        "            return img"
      ],
      "execution_count": 2,
      "outputs": []
    },
    {
      "cell_type": "code",
      "metadata": {
        "id": "-CHrwuE_JnSR",
        "colab_type": "code",
        "colab": {}
      },
      "source": [
        "def set_parameter_requires_grad(model):\n",
        "  for param in model.parameters():\n",
        "      param.requires_grad = True\n",
        "class CustomFasterRCCN(nn.Module):\n",
        "  \n",
        "    def __init__(self, n_classes):\n",
        "        super().__init__()\n",
        "\n",
        "        self.model_ft = torchvision.models.detection.fasterrcnn_resnet50_fpn(pretrained=True).cuda()\n",
        "        # get the number of input features for the classifier\n",
        "        in_features = model.roi_heads.box_predictor.cls_score.in_features \n",
        "        # replace the pre-trained head with a new one\n",
        "        self.model_ft.roi_heads.box_predictor = FastRCNNPredictor(in_features, n_classes).cuda()\n",
        "        set_parameter_requires_grad(self.model_ft.roi_heads.box_predictor)\n",
        "\n",
        "    def forward(self, img, target):        \n",
        "\n",
        "        logits = self.model_ft(img, target)\n",
        "        return logits\n",
        "def get_object_detection_model(num_classes):\n",
        "    # load an object detection model pre-trained on COCO\n",
        "    model = torchvision.models.detection.fasterrcnn_resnet50_fpn(pretrained=True).cuda()\n",
        "    \n",
        "    # get the number of input features for the classifier\n",
        "    in_features = model.roi_heads.box_predictor.cls_score.in_features\n",
        " \n",
        "    # replace the pre-trained head with a new one\n",
        "    model.roi_heads.box_predictor = FastRCNNPredictor(in_features, num_classes).cuda()\n",
        " \n",
        "    return model"
      ],
      "execution_count": 4,
      "outputs": []
    },
    {
      "cell_type": "code",
      "metadata": {
        "id": "msF6yOglG3tC",
        "colab_type": "code",
        "colab": {}
      },
      "source": [
        "def iou(boxA, boxB):\n",
        "    # determine the (x, y)-coordinates of the intersection rectangle\n",
        "    xA = max(boxA[0], boxB[0])\n",
        "    yA = max(boxA[1], boxB[1])\n",
        "    xB = min(boxA[2], boxB[2])\n",
        "    yB = min(boxA[3], boxB[3])\n",
        "\n",
        "    # compute the area of intersection rectangle\n",
        "    interArea = abs(max((xB - xA, 0)) * max((yB - yA), 0))\n",
        "    if interArea == 0:\n",
        "        return 0\n",
        "    # compute the area of both the prediction and ground-truth\n",
        "    # rectangles\n",
        "    boxAArea = abs((boxA[2] - boxA[0]) * (boxA[3] - boxA[1]))\n",
        "    boxBArea = abs((boxB[2] - boxB[0]) * (boxB[3] - boxB[1]))\n",
        "\n",
        "    # compute the intersection over union by taking the intersection\n",
        "    # area and dividing it by the sum of prediction + ground-truth\n",
        "    # areas - the interesection area\n",
        "    iou = interArea / float(boxAArea + boxBArea - interArea)\n",
        "\n",
        "    # return the intersection over union value\n",
        "    return iou\n",
        "\n",
        "def getMask(matr):\n",
        "    # print(\"\\n\")\n",
        "    # print(matr)\n",
        "    tmax = matr.max(-1, keepdim=True)[0]\n",
        "    return matr.ge(tmax)  # greater or equal\n",
        "\n",
        "\n",
        "def get_metric(predict, valid_data):\n",
        "    FN = 0\n",
        "    FP = 0\n",
        "    TP = 0\n",
        "    val=list(zip(valid_data[\"boxes\"], valid_data[\"labels\"]))\n",
        "    orangeVal = list(filter(lambda x: x[1] == Labels['orange'],val))\n",
        "    bananaVal = list(filter(lambda x: x[1] == Labels['banana'], val))\n",
        "    appleVal = list(filter(lambda x: x[1] == Labels['apple'], val))\n",
        "    # print(\"\\n\")\n",
        "    # print(orangeVal)\n",
        "    # print(\"\\n\")\n",
        "    # print(bananaVal)\n",
        "    # print(\"\\n\")\n",
        "    # print(appleVal)\n",
        "    # print(\"\\n\")\n",
        "    scoreTrashhold=0.95\n",
        "    trashhold=0.45\n",
        "    pred = list(zip(predict[\"boxes\"], predict[\"labels\"], predict[\"scores\"]))\n",
        "    pred = list(filter(lambda x: x[2] > scoreTrashhold, pred))\n",
        "    orangePred = list(filter(lambda x: x[1] == Labels['orange'], pred))\n",
        "    bananaPred = list(filter(lambda x: x[1] == Labels['banana'], pred))\n",
        "    applePred = list(filter(lambda x: x[1] == Labels['apple'], pred))\n",
        "\n",
        "    orangeMtr = torch.Tensor(len(orangeVal), len(orangePred))\n",
        "    bananaMtr = torch.Tensor(len(bananaVal), len(bananaPred))\n",
        "    appleMtr = torch.Tensor(len(appleVal), len(applePred))\n",
        "\n",
        "    if len(orangePred) < len(orangeVal):\n",
        "        FN += len(orangeVal) - len(orangePred)\n",
        "    if len(bananaPred) < len(bananaVal):\n",
        "        FN += len(bananaVal) - len(bananaPred)\n",
        "    if len(applePred) < len(appleVal):\n",
        "        FN += len(appleVal) - len(applePred)\n",
        "\n",
        "    for i in range(len(orangeVal)):\n",
        "        for j in range(len(orangePred)):\n",
        "            orangeMtr[i, j] = iou(orangeVal[i][0], orangePred[j][0])\n",
        "\n",
        "    for i in range(len(bananaVal)):\n",
        "        for j in range(len(bananaPred)):\n",
        "            bananaMtr[i, j] = iou(bananaVal[i][0], bananaPred[j][0])\n",
        "\n",
        "    for i in range(len(appleVal)):\n",
        "        for j in range(len(applePred)):\n",
        "            appleMtr[i, j] = iou(appleVal[i][0], applePred[j][0])\n",
        "\n",
        "    if len(orangeVal)>0 and len(orangePred)>0:\n",
        "        TP += torch.sum(orangeMtr > trashhold)\n",
        "        FP += torch.sum(orangeMtr < trashhold)\n",
        "    if len(bananaVal)>0 and len(bananaPred)>0:\n",
        "        TP += torch.sum( bananaMtr > trashhold)\n",
        "        FP += torch.sum(bananaMtr < trashhold)\n",
        "    if len(appleVal)>0 and len(applePred)>0:\n",
        "        TP += torch.sum( appleMtr > trashhold)\n",
        "        FP +=torch.sum(appleMtr < trashhold)\n",
        "    return TP, FP, FN\n",
        "\n",
        "def metric_batch(predict, valid_data):\n",
        "    TP, FP, FN = 0., 0., 0.\n",
        "    if len(predict) != len(valid_data):\n",
        "        raise Exception('Wrong batch leng')\n",
        "    lenArr = len(valid_data)\n",
        "    for i in range(lenArr):\n",
        "        tp, fp, fn = get_metric(predict[i], valid_data[i])\n",
        "        TP += tp\n",
        "        FP += fp\n",
        "        FN += fn\n",
        "    return TP / lenArr, FP / lenArr, FN / lenArr\n",
        "\n",
        "#  def get_metric_by_class(model_params, test_data): \n",
        "#    DEVICE = torch.device(\"cuda\")\n",
        "#    net = torchvision.models.detection.fasterrcnn_resnet50_fpn(pretrained=False).to(DEVICE)\n",
        "#    net.load_state_dict(torch.load('model/rrcnn_0.7881030117472012.pth'))\n",
        "#    net.eval().to(DEVICE)\n",
        "\n",
        "\n",
        "def fit_epoch(model, train_loader, optimizer):\n",
        "    model.train()\n",
        "    running_loss = 0.0\n",
        "    i=0\n",
        "    for img, targets in train_loader:\n",
        "        i += 1\n",
        "        # print(img[0].shape)\n",
        "        img = list(img.to(DEVICE) for img in img)\n",
        "        targets = [{k: v.to(DEVICE) for k, v in t.items()} for t in targets]\n",
        "        optimizer.zero_grad()\n",
        "\n",
        "        loss_dict = model(img,targets)\n",
        "        # print(\"\\nloss_dict\")\n",
        "        # print(loss_dict)\n",
        "        losses = sum(loss for loss in loss_dict.values())\n",
        "        loss = losses.item()/len(loss_dict)  \n",
        "        optimizer.zero_grad()\n",
        "        losses.backward()\n",
        "        optimizer.step()\n",
        "        # print(f'Iteration: {i}/{len(train_loader)}, Loss: {loss}')\n",
        "        running_loss += loss           \n",
        "    train_loss = running_loss / i\n",
        "    return train_loss\n",
        "\n",
        "def eval_epoch(model, val_loader):\n",
        "    model.eval()\n",
        "    recallSum = 0.0\n",
        "    precisionSum = 0.0\n",
        "    i=0\n",
        "    for img, targets in val_loader:\n",
        "        i += 1\n",
        "        img = list(img.to(DEVICE) for img in img)\n",
        "        # targets = [{k: v.to(DEVICE) for k, v in t.items()} for t in targets]\n",
        "        # print(len(targets))\n",
        "        with torch.set_grad_enabled(False):\n",
        "            loss_dict = model(img)\n",
        "            # print(\"loss_dict\")\n",
        "            # print(len(loss_dict))\n",
        "            TP, FP, FN = metric_batch(loss_dict,targets)\n",
        "            # print( \"\\nTP, FP, FN\")\n",
        "            # print( TP, FP, FN)\n",
        "            recall = float(TP/(TP+FN+0.0000001))\n",
        "            precision = float(TP/(TP+FP+0.0000001))\n",
        "            recallSum+= recall\n",
        "            precisionSum+=precision\n",
        "            # print(f'Iteration: {i}/{len(val_loader)}, recall: {recall},precision: {precision} ')\n",
        "    acc_recall=recallSum/i\n",
        "    acc_precision=precisionSum/i\n",
        "    return  acc_recall, acc_precision\n",
        "\n",
        "# collate_fn needs for batch\n",
        "def collate_fn(batch):\n",
        "    return tuple(zip(*batch))\n",
        "\n",
        "def train(train_files, val_files, model, epochs, batch_size, l_r):\n",
        "\n",
        "    best_model_wts = model.state_dict()\n",
        "    best_acc = 0.0\n",
        "    train_loader = torch.utils.data.DataLoader(train_files, batch_size=batch_size,\n",
        "                                          shuffle=True, num_workers=2, collate_fn=collate_fn)\n",
        "    val_loader = torch.utils.data.DataLoader(train_files, batch_size=batch_size,\n",
        "                                          shuffle=False, num_workers=2, collate_fn=collate_fn)\n",
        "\n",
        "    history = []\n",
        "    log_template = \"\\nEpoch {ep:03d} train_loss: {t_loss:0.4f} \\\n",
        "    acc_recall {acc_recall:0.4f} acc_precision {acc_precision:0.4f}\"\n",
        "\n",
        "    with tqdm(desc=\"epoch\", total=epochs) as pbar_outer:\n",
        "        # params = [p for p in model.parameters() if p.requires_grad]\n",
        "        opt = torch.optim.SGD(model.parameters(), lr=0.005, momentum=0.9, weight_decay=0.0005)\n",
        "        # criterion = nn.CrossEntropyLoss()\n",
        "        # для уменьшения lr каждую эпоху в два раза\n",
        "        scheduler = torch.optim.lr_scheduler.StepLR(opt, 1, gamma=0.5)\n",
        "\n",
        "        for epoch in range(epochs):\n",
        "            train_loss = fit_epoch(model, train_loader, opt)\n",
        "            # print(\"loss\", train_loss)            \n",
        "            acc_recall, acc_precision = eval_epoch(model, val_loader)\n",
        "            acc=(acc_recall+acc_precision)/2\n",
        "            if acc > best_acc:\n",
        "              best_acc = acc\n",
        "              best_model_wts = model.state_dict()\n",
        "            history.append((train_loss,acc_recall,  acc_precision))\n",
        "            \n",
        "            pbar_outer.update(1)\n",
        "            tqdm.write(log_template.format(ep=epoch+1, t_loss=train_loss,\\\n",
        "                                           acc_recall=acc_recall, acc_precision=acc_precision))\n",
        "            scheduler.step()\n",
        "            # для сохранения чекпоинтов на всякий случай\n",
        "            # torch.save(model, r\"/content/drive/My Drive/rrcnn_\" + str(epoch) + \".pkl\")\n",
        "           \n",
        "    torch.save(best_model_wts, \"/content/drive/My Drive/rrcnn_\" + str(best_acc) + \".pth\")         \n",
        "    return history"
      ],
      "execution_count": 20,
      "outputs": []
    },
    {
      "cell_type": "code",
      "metadata": {
        "id": "ouwjHV8kg4-J",
        "colab_type": "code",
        "colab": {
          "base_uri": "https://localhost:8080/",
          "height": 555
        },
        "outputId": "3ed33425-4da4-4e95-8387-8cba950956d0"
      },
      "source": [
        "TRAIN_DIR = Path('/content/drive/My Drive/fruits/train_zip')\n",
        "TEST_DIR = Path('/content/drive/My Drive/fruits/test_zip')\n",
        "train_val_files = sorted(list(TRAIN_DIR.rglob('*.jpg')))\n",
        "test_files = sorted(list(TEST_DIR.rglob('*.jpg')))\n",
        "\n",
        "\n",
        "from sklearn.model_selection import train_test_split\n",
        "\n",
        "train_files, val_files = train_test_split(train_val_files, test_size=0.25)\n",
        "\n",
        "val_dataset = CustomDataset(val_files, mode='val')\n",
        "    \n",
        "train_dataset = CustomDataset(train_files, mode='train')\n",
        "\n",
        "# net= torchvision.models.detection.fasterrcnn_resnet50_fpn(pretrained=False, progress=True, num_classes=4, pretrained_backbone=True).to(DEVICE)\n",
        "net= get_object_detection_model( num_classes=4)\n",
        "# net= torchvision.models.detection.fasterrcnn_resnet50_fpn(pretrained=True).to(DEVICE)\n",
        "    \n",
        "\n",
        "history = train(train_dataset, val_dataset, model=net, epochs=15, batch_size=4, l_r = 0.0001)\n",
        "\n",
        "train_loss,acc_recall,  acc_precision = zip(*history)"
      ],
      "execution_count": 21,
      "outputs": [
        {
          "output_type": "stream",
          "text": [
            "epoch:   7%|▋         | 1/15 [01:15<17:36, 75.48s/it]"
          ],
          "name": "stderr"
        },
        {
          "output_type": "stream",
          "text": [
            "\n",
            "Epoch 001 train_loss: 0.0941     acc_recall 0.0194 acc_precision 0.0911\n"
          ],
          "name": "stdout"
        },
        {
          "output_type": "stream",
          "text": [
            "epoch:  13%|█▎        | 2/15 [02:30<16:19, 75.37s/it]"
          ],
          "name": "stderr"
        },
        {
          "output_type": "stream",
          "text": [
            "\n",
            "Epoch 002 train_loss: 0.0412     acc_recall 0.7335 acc_precision 0.5971\n"
          ],
          "name": "stdout"
        },
        {
          "output_type": "stream",
          "text": [
            "epoch:  20%|██        | 3/15 [03:45<15:02, 75.20s/it]"
          ],
          "name": "stderr"
        },
        {
          "output_type": "stream",
          "text": [
            "\n",
            "Epoch 003 train_loss: 0.0314     acc_recall 0.8255 acc_precision 0.5623\n"
          ],
          "name": "stdout"
        },
        {
          "output_type": "stream",
          "text": [
            "epoch:  27%|██▋       | 4/15 [05:00<13:45, 75.06s/it]"
          ],
          "name": "stderr"
        },
        {
          "output_type": "stream",
          "text": [
            "\n",
            "Epoch 004 train_loss: 0.0274     acc_recall 0.8097 acc_precision 0.6015\n"
          ],
          "name": "stdout"
        },
        {
          "output_type": "stream",
          "text": [
            "epoch:  33%|███▎      | 5/15 [06:15<12:30, 75.02s/it]"
          ],
          "name": "stderr"
        },
        {
          "output_type": "stream",
          "text": [
            "\n",
            "Epoch 005 train_loss: 0.0251     acc_recall 0.8533 acc_precision 0.5829\n"
          ],
          "name": "stdout"
        },
        {
          "output_type": "stream",
          "text": [
            "epoch:  40%|████      | 6/15 [07:29<11:14, 74.98s/it]"
          ],
          "name": "stderr"
        },
        {
          "output_type": "stream",
          "text": [
            "\n",
            "Epoch 006 train_loss: 0.0245     acc_recall 0.8476 acc_precision 0.5840\n"
          ],
          "name": "stdout"
        },
        {
          "output_type": "stream",
          "text": [
            "epoch:  47%|████▋     | 7/15 [08:44<09:59, 74.93s/it]"
          ],
          "name": "stderr"
        },
        {
          "output_type": "stream",
          "text": [
            "\n",
            "Epoch 007 train_loss: 0.0240     acc_recall 0.8496 acc_precision 0.5861\n"
          ],
          "name": "stdout"
        },
        {
          "output_type": "stream",
          "text": [
            "epoch:  53%|█████▎    | 8/15 [09:59<08:44, 74.92s/it]"
          ],
          "name": "stderr"
        },
        {
          "output_type": "stream",
          "text": [
            "\n",
            "Epoch 008 train_loss: 0.0242     acc_recall 0.8574 acc_precision 0.5862\n"
          ],
          "name": "stdout"
        },
        {
          "output_type": "stream",
          "text": [
            "epoch:  60%|██████    | 9/15 [11:14<07:29, 74.89s/it]"
          ],
          "name": "stderr"
        },
        {
          "output_type": "stream",
          "text": [
            "\n",
            "Epoch 009 train_loss: 0.0238     acc_recall 0.8574 acc_precision 0.5862\n"
          ],
          "name": "stdout"
        },
        {
          "output_type": "stream",
          "text": [
            "epoch:  67%|██████▋   | 10/15 [12:29<06:14, 74.90s/it]"
          ],
          "name": "stderr"
        },
        {
          "output_type": "stream",
          "text": [
            "\n",
            "Epoch 010 train_loss: 0.0242     acc_recall 0.8574 acc_precision 0.5862\n"
          ],
          "name": "stdout"
        },
        {
          "output_type": "stream",
          "text": [
            "epoch:  73%|███████▎  | 11/15 [13:44<04:59, 74.91s/it]"
          ],
          "name": "stderr"
        },
        {
          "output_type": "stream",
          "text": [
            "\n",
            "Epoch 011 train_loss: 0.0243     acc_recall 0.8574 acc_precision 0.5862\n"
          ],
          "name": "stdout"
        },
        {
          "output_type": "stream",
          "text": [
            "epoch:  80%|████████  | 12/15 [14:59<03:44, 74.89s/it]"
          ],
          "name": "stderr"
        },
        {
          "output_type": "stream",
          "text": [
            "\n",
            "Epoch 012 train_loss: 0.0236     acc_recall 0.8574 acc_precision 0.5862\n"
          ],
          "name": "stdout"
        },
        {
          "output_type": "stream",
          "text": [
            "epoch:  87%|████████▋ | 13/15 [16:14<02:29, 74.88s/it]"
          ],
          "name": "stderr"
        },
        {
          "output_type": "stream",
          "text": [
            "\n",
            "Epoch 013 train_loss: 0.0239     acc_recall 0.8574 acc_precision 0.5862\n"
          ],
          "name": "stdout"
        },
        {
          "output_type": "stream",
          "text": [
            "epoch:  93%|█████████▎| 14/15 [17:28<01:14, 74.83s/it]"
          ],
          "name": "stderr"
        },
        {
          "output_type": "stream",
          "text": [
            "\n",
            "Epoch 014 train_loss: 0.0239     acc_recall 0.8574 acc_precision 0.5862\n"
          ],
          "name": "stdout"
        },
        {
          "output_type": "stream",
          "text": [
            "epoch: 100%|██████████| 15/15 [18:43<00:00, 74.92s/it]\n"
          ],
          "name": "stderr"
        },
        {
          "output_type": "stream",
          "text": [
            "\n",
            "Epoch 015 train_loss: 0.0240     acc_recall 0.8574 acc_precision 0.5862\n"
          ],
          "name": "stdout"
        }
      ]
    },
    {
      "cell_type": "code",
      "metadata": {
        "id": "_6du4lJwZMzc",
        "colab_type": "code",
        "colab": {
          "base_uri": "https://localhost:8080/",
          "height": 551
        },
        "outputId": "e41a0e38-e7c4-4478-8f8c-c2908c7ecdd6"
      },
      "source": [
        "plt.figure(figsize=(15, 9))\n",
        "plt.plot(train_loss, label=\"train_loss\")\n",
        "plt.plot(acc_recall, label=\"acc_recall\")\n",
        "plt.plot(acc_precision, label=\"acc_precision\")\n",
        "plt.legend(loc='best')\n",
        "plt.xlabel(\"epochs\")\n",
        "plt.ylabel(\"loss\")\n",
        "plt.show()"
      ],
      "execution_count": 22,
      "outputs": [
        {
          "output_type": "display_data",
          "data": {
            "image/png": "[encoded data removed]",
            "text/plain": [
              "<Figure size 1080x648 with 1 Axes>"
            ]
          },
          "metadata": {
            "tags": [],
            "needs_background": "light"
          }
        }
      ]
    },
    {
      "cell_type": "code",
      "metadata": {
        "id": "0ugMags-5ljA",
        "colab_type": "code",
        "colab": {
          "base_uri": "https://localhost:8080/",
          "height": 569
        },
        "outputId": "d7002103-87b7-4882-a9d9-24c840a471f7"
      },
      "source": [
        "def plot_preds(numpy_img, preds):\n",
        "  boxes = preds['boxes'].cpu().detach().numpy()\n",
        "  for box in boxes:\n",
        "    numpy_img = cv2.rectangle(\n",
        "        numpy_img, \n",
        "        (box[0],box[1]),\n",
        "        (box[2],box[3]), \n",
        "        255,\n",
        "        3\n",
        "    )\n",
        "  return numpy_img.get()\n",
        "\n",
        "model = net.eval().cuda()\n",
        "img_numpy = cv2.imread('/content/drive/My Drive/fruits/test_zip/test/mixed_21.jpg')[:,:,::-1]\n",
        "img = torch.from_numpy(img_numpy.astype('float32')).permute(2,0,1)\n",
        "img = img / 255.\n",
        "# print(img.shape)\n",
        "\n",
        "predictions = model(img[None,...].cuda())\n",
        "print(predictions)\n",
        "# 55 orange\n",
        "# 53 apple\n",
        "# 52 banana\n",
        "CONF_THRESH = 0.4\n",
        "boxes = predictions[0]['boxes'][(predictions[0]['scores'] > CONF_THRESH) & (predictions[0]['labels'] == 55) ]\n",
        "boxes_dict = {}\n",
        "boxes_dict['boxes'] = boxes\n",
        "\n",
        "img_with_boxes = plot_preds(img_numpy, boxes_dict)\n",
        "print(img_with_boxes.shape)\n",
        "fig = plt.figure(figsize=(10,5))\n",
        "plt.imshow(img_with_boxes.astype('uint'));"
      ],
      "execution_count": null,
      "outputs": [
        {
          "output_type": "stream",
          "text": [
            "/usr/local/lib/python3.6/dist-packages/torch/nn/functional.py:2854: UserWarning: The default behavior for interpolate/upsample with float scale_factor will change in 1.6.0 to align with other frameworks/libraries, and use scale_factor directly, instead of relying on the computed output size. If you wish to keep the old behavior, please set recompute_scale_factor=True. See the documentation of nn.Upsample for details. \n",
            "  warnings.warn(\"The default behavior for interpolate/upsample with float scale_factor will change \"\n"
          ],
          "name": "stderr"
        },
        {
          "output_type": "stream",
          "text": [
            "[{'boxes': tensor([[123.1679, 238.5279, 351.7195, 442.6459],\n",
            "        [325.4459, 231.3774, 560.3345, 438.2763],\n",
            "        [519.6236, 313.7616, 656.9203, 465.7718],\n",
            "        [259.9305, 353.2195, 400.0131, 481.2553],\n",
            "        [236.3758,  52.6160, 423.5948, 295.9740],\n",
            "        [383.4018, 353.6672, 549.7746, 497.9485],\n",
            "        [533.9532, 303.7775, 653.3807, 401.1404],\n",
            "        [325.2231, 222.9973, 549.5067, 451.0106]], device='cuda:0',\n",
            "       grad_fn=<StackBackward>), 'labels': tensor([55, 55, 55, 55, 53, 55, 55, 52], device='cuda:0'), 'scores': tensor([0.9995, 0.9790, 0.9665, 0.9659, 0.9375, 0.7075, 0.3864, 0.3144],\n",
            "       device='cuda:0', grad_fn=<IndexBackward>)}]\n",
            "(535, 800, 3)\n"
          ],
          "name": "stdout"
        },
        {
          "output_type": "display_data",
          "data": {
            "image/png": "[encoded data removed]",
            "text/plain": [
              "<Figure size 720x360 with 1 Axes>"
            ]
          },
          "metadata": {
            "tags": [],
            "needs_background": "light"
          }
        }
      ]
    }
  ]
}